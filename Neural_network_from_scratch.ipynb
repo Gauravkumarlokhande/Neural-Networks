{
  "nbformat": 4,
  "nbformat_minor": 0,
  "metadata": {
    "colab": {
      "provenance": [],
      "toc_visible": true,
      "authorship_tag": "ABX9TyPBipw3kV3For/YbQQjWGNC",
      "include_colab_link": true
    },
    "kernelspec": {
      "name": "python3",
      "display_name": "Python 3"
    },
    "language_info": {
      "name": "python"
    }
  },
  "cells": [
    {
      "cell_type": "markdown",
      "metadata": {
        "id": "view-in-github",
        "colab_type": "text"
      },
      "source": [
        "<a href=\"https://colab.research.google.com/github/Gauravkumarlokhande/neural_network_scratch/blob/main/Neural_network_from_scratch.ipynb\" target=\"_parent\"><img src=\"https://colab.research.google.com/assets/colab-badge.svg\" alt=\"Open In Colab\"/></a>"
      ]
    },
    {
      "cell_type": "code",
      "source": [
        "import sys\n",
        "import numpy as np\n",
        "import matplotlib.pyplot as plt"
      ],
      "metadata": {
        "id": "o25D-_Gqo1r7"
      },
      "execution_count": null,
      "outputs": []
    },
    {
      "cell_type": "markdown",
      "source": [
        "code for single neuron in hidden layer"
      ],
      "metadata": {
        "id": "94WYbLEKw_5n"
      }
    },
    {
      "cell_type": "code",
      "source": [
        "input=[1,2,3]\n",
        "weights=[0.2,0.8,-0.5]\n",
        "bias=2\n",
        "#every neuron has it's own bias\n",
        "output=np.dot(weights,input)+bias\n",
        "print(output)"
      ],
      "metadata": {
        "colab": {
          "base_uri": "https://localhost:8080/"
        },
        "id": "ANAlH5_WvYVT",
        "outputId": "7810dfc0-8dc8-4c04-9c19-1a657ba14d8f"
      },
      "execution_count": null,
      "outputs": [
        {
          "output_type": "stream",
          "name": "stdout",
          "text": [
            "2.3\n"
          ]
        }
      ]
    },
    {
      "cell_type": "markdown",
      "source": [
        "Coding a single neuron in output layer"
      ],
      "metadata": {
        "id": "bsIvASyNwrvW"
      }
    },
    {
      "cell_type": "code",
      "source": [
        "input=[1,2,3,0.5]\n",
        "weights=[0.2,0.8,-0.5,1]\n",
        "bias=2\n",
        "#every neuron has it's own bias\n",
        "output=np.dot(weights,input)+bias\n",
        "print(output)"
      ],
      "metadata": {
        "colab": {
          "base_uri": "https://localhost:8080/"
        },
        "id": "s_tL3-Sgv1f8",
        "outputId": "9bee9198-0a66-4cb8-8ce6-a6b249317262"
      },
      "execution_count": null,
      "outputs": [
        {
          "output_type": "stream",
          "name": "stdout",
          "text": [
            "2.8\n"
          ]
        }
      ]
    },
    {
      "cell_type": "markdown",
      "source": [
        "coding the last output layer"
      ],
      "metadata": {
        "id": "kJamTTmpx8uA"
      }
    },
    {
      "cell_type": "code",
      "source": [
        "input=[0,1,2,3]\n",
        "weight1=[0.2,0.3,0.4,0.8]\n",
        "weight2=[0.5,0.6,0.8,0.6]\n",
        "weight3=[0.7,0.9,0.1,0.2]\n",
        "bias1=2\n",
        "bias2=3\n",
        "bias3=2.2\n",
        "output=[np.dot(input,weight1)+bias1,np.dot(input,weight2)+bias2,np.dot(input,weight3)+bias3]\n",
        "print(output)"
      ],
      "metadata": {
        "colab": {
          "base_uri": "https://localhost:8080/"
        },
        "id": "m_DArSpXwnRD",
        "outputId": "d49bc718-c2a4-488e-d086-b40187408676"
      },
      "execution_count": null,
      "outputs": [
        {
          "output_type": "stream",
          "name": "stdout",
          "text": [
            "[np.float64(5.5), np.float64(7.0), np.float64(3.9000000000000004)]\n"
          ]
        }
      ]
    },
    {
      "cell_type": "code",
      "source": [
        "input=[0,1,2,3]\n",
        "\n",
        "weight=[[0.2,0.3,0.4,0.8],[0.5,0.6,0.8,0.6],[0.7,0.9,0.1,0.2]]\n",
        "bias=[2,3,5]\n",
        "output=np.dot(weight,input)+bias\n",
        "print(output)"
      ],
      "metadata": {
        "colab": {
          "base_uri": "https://localhost:8080/"
        },
        "id": "U83zp4f7zItg",
        "outputId": "87c82187-bd61-474f-cc8a-b134e8b8bdde"
      },
      "execution_count": null,
      "outputs": [
        {
          "output_type": "stream",
          "name": "stdout",
          "text": [
            "[5.5 7.  6.7]\n"
          ]
        }
      ]
    },
    {
      "cell_type": "markdown",
      "source": [
        "coding for 3 samples at a time"
      ],
      "metadata": {
        "id": "lpaVF4s863Iu"
      }
    },
    {
      "cell_type": "code",
      "source": [
        "input= [[0,1,2],\n",
        " [3,7,8],\n",
        "  [6,4,9],\n",
        "  [6,4,9]\n",
        "   ]\n",
        "weight=[[0.2,0.3,0.4,0.9],\n",
        " [0.5,0.6,0.8,0.3],\n",
        "  [0.7,0.9,0.1,0.5]\n",
        "  ]\n",
        "bias=[2,9,4]\n",
        "output=np.dot(weight,input)+bias\n",
        "print(output)"
      ],
      "metadata": {
        "colab": {
          "base_uri": "https://localhost:8080/"
        },
        "id": "I_dZRUOG1HGz",
        "outputId": "06d95f5e-f238-4dd4-888c-a71093abb85b"
      },
      "execution_count": null,
      "outputs": [
        {
          "output_type": "stream",
          "name": "stdout",
          "text": [
            "[[10.7 16.5 18.5]\n",
            " [10.4 18.1 19.7]\n",
            " [ 8.3 18.4 18. ]]\n"
          ]
        }
      ]
    },
    {
      "cell_type": "markdown",
      "source": [
        "neural netwrok with custom layers and inputs"
      ],
      "metadata": {
        "id": "-Ici_k1eGRq7"
      }
    },
    {
      "cell_type": "code",
      "source": [
        "input= [[0,1,2,4],\n",
        " [3,7,8,4],\n",
        "  [6,4,9,4],\n",
        "  [6,4,9,4]\n",
        "   ]\n",
        "class layer_dense:\n",
        "  def __init__(self,n_features,neurons):\n",
        "    self.weights=0.10*np.random.randn(n_features,neurons)\n",
        "    self.bias=np.zeros((1,neurons))\n",
        "  def forward(self,inputs):\n",
        "    output=np.dot(inputs,self.weights)+self.bias\n",
        "    return output\n"
      ],
      "metadata": {
        "id": "yzKyyxn27gS9"
      },
      "execution_count": null,
      "outputs": []
    },
    {
      "cell_type": "code",
      "source": [
        "layer1=layer_dense(4,5).forward(input)"
      ],
      "metadata": {
        "id": "YNEuiUa-8mxA"
      },
      "execution_count": null,
      "outputs": []
    },
    {
      "cell_type": "code",
      "source": [
        "print(layer1)"
      ],
      "metadata": {
        "colab": {
          "base_uri": "https://localhost:8080/"
        },
        "id": "4EkJpRfTIrf-",
        "outputId": "525709d8-4129-4528-a9a1-e8d68a87656f"
      },
      "execution_count": null,
      "outputs": [
        {
          "output_type": "stream",
          "name": "stdout",
          "text": [
            "[[-0.0411572   0.34895929 -0.12190519  1.18234768  0.01533928]\n",
            " [ 0.21054471  0.15155318 -0.64653233  1.47828336  0.22179332]\n",
            " [ 0.66494551 -0.19898758 -0.88303181  0.97532796  0.54041425]\n",
            " [ 0.66494551 -0.19898758 -0.88303181  0.97532796  0.54041425]]\n"
          ]
        }
      ]
    },
    {
      "cell_type": "markdown",
      "source": [
        "neural network with loss"
      ],
      "metadata": {
        "id": "ZbpR7G0DMj7W"
      }
    },
    {
      "cell_type": "code",
      "source": [
        "softmax_output=np.array([[0.7,0.1,0.2],[0.1,0.5,0.4],[0.02,0.9,0.08]])\n",
        "softmax_output"
      ],
      "metadata": {
        "colab": {
          "base_uri": "https://localhost:8080/"
        },
        "id": "uzvxSEdUIx5v",
        "outputId": "7a1f6584-e1a1-41cb-a47a-4444bdc28891"
      },
      "execution_count": null,
      "outputs": [
        {
          "output_type": "execute_result",
          "data": {
            "text/plain": [
              "array([[0.7 , 0.1 , 0.2 ],\n",
              "       [0.1 , 0.5 , 0.4 ],\n",
              "       [0.02, 0.9 , 0.08]])"
            ]
          },
          "metadata": {},
          "execution_count": 10
        }
      ]
    },
    {
      "cell_type": "code",
      "source": [
        "class_targets=[0,1,1]"
      ],
      "metadata": {
        "id": "JghlIVc1Oc87"
      },
      "execution_count": null,
      "outputs": []
    },
    {
      "cell_type": "code",
      "source": [
        "print(softmax_output[range(len(softmax_output)),class_targets])"
      ],
      "metadata": {
        "colab": {
          "base_uri": "https://localhost:8080/"
        },
        "id": "l7pLwNudM0R8",
        "outputId": "7984ffac-5db2-48e1-e395-608f2c5d388a"
      },
      "execution_count": null,
      "outputs": [
        {
          "output_type": "stream",
          "name": "stdout",
          "text": [
            "[0.7 0.5 0.9]\n"
          ]
        }
      ]
    },
    {
      "cell_type": "code",
      "source": [
        "# to calculate logs\n",
        "print(-np.log(softmax_output[range(len(softmax_output)),class_targets]))"
      ],
      "metadata": {
        "colab": {
          "base_uri": "https://localhost:8080/"
        },
        "id": "1EKTfBDdM_eN",
        "outputId": "eb78b526-eeae-494a-e2f6-5787dd9480a2"
      },
      "execution_count": null,
      "outputs": [
        {
          "output_type": "stream",
          "name": "stdout",
          "text": [
            "[0.35667494 0.69314718 0.10536052]\n"
          ]
        }
      ]
    },
    {
      "cell_type": "code",
      "source": [],
      "metadata": {
        "id": "q_uMelkCNkaC"
      },
      "execution_count": null,
      "outputs": []
    }
  ]
}